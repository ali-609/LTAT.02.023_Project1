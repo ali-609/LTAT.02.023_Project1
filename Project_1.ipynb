{
  "cells": [
    {
      "cell_type": "markdown",
      "metadata": {
        "id": "SmNHS0_uxOWp"
      },
      "source": [
        "Download the dataset from https://www.kaggle.com/competitions/playground-series-s4e1/data?select=train.csv"
      ]
    },
    {
      "cell_type": "code",
      "execution_count": 2,
      "metadata": {
        "colab": {
          "base_uri": "https://localhost:8080/"
        },
        "id": "QTMWiS6w3nL5",
        "outputId": "a47337c7-cd4c-4f81-8be1-a9e7b4c3d026"
      },
      "outputs": [
        {
          "name": "stdout",
          "output_type": "stream",
          "text": [
            "\n",
            "\n",
            "\u001b7\u001b[1A\u001b[1G\u001b[27G[Files: 0  Bytes: 0  [0 B/s] Re]\u001b8\u001b7\u001b[2A\u001b[1G\u001b[27G[https://owncloud.ut.ee/ownclou]\u001b8\u001b7\u001b[2A\u001b[1Gtrain.csv              3% [>                             ]  434.00K    --.-KB/s\u001b8\u001b7\u001b[2A\u001b[1Gtrain.csv             12% [==>                           ]    1.51M    8.69MB/s\u001b8\u001b7\u001b[2A\u001b[1Gtrain.csv             25% [======>                       ]    2.94M   10.10MB/s\u001b8\u001b7\u001b[2A\u001b[1Gtrain.csv             54% [===============>              ]    6.38M   15.90MB/s\u001b8\u001b7\u001b[2A\u001b[1Gtrain.csv             90% [==========================>   ]   10.63M   20.41MB/s\u001b8\u001b7\u001b[2A\u001b[1Gtrain.csv            100% [=============================>]   11.77M   21.58MB/s\u001b8\u001b7\u001b[1A\u001b[1G\u001b[27G[Files: 1  Bytes: 11.77M [11.44]\u001b8\u001b[m\u001b[m\u001b[m\u001b[m"
          ]
        }
      ],
      "source": [
        "!wget https://owncloud.ut.ee/owncloud/s/4gX2Fd2enyyZLmW/download/train.csv"
      ]
    },
    {
      "cell_type": "code",
      "execution_count": 3,
      "metadata": {
        "colab": {
          "base_uri": "https://localhost:8080/"
        },
        "id": "yS6cCJopxOWq",
        "outputId": "56998e5d-eebd-447f-efff-8193fff28fb1"
      },
      "outputs": [
        {
          "name": "stdout",
          "output_type": "stream",
          "text": [
            "<class 'pandas.core.frame.DataFrame'>\n",
            "RangeIndex: 165034 entries, 0 to 165033\n",
            "Data columns (total 14 columns):\n",
            " #   Column           Non-Null Count   Dtype  \n",
            "---  ------           --------------   -----  \n",
            " 0   id               165034 non-null  int64  \n",
            " 1   CustomerId       165034 non-null  int64  \n",
            " 2   Surname          165034 non-null  object \n",
            " 3   CreditScore      165034 non-null  int64  \n",
            " 4   Geography        165034 non-null  object \n",
            " 5   Gender           165034 non-null  object \n",
            " 6   Age              165034 non-null  float64\n",
            " 7   Tenure           165034 non-null  int64  \n",
            " 8   Balance          165034 non-null  float64\n",
            " 9   NumOfProducts    165034 non-null  int64  \n",
            " 10  HasCrCard        165034 non-null  float64\n",
            " 11  IsActiveMember   165034 non-null  float64\n",
            " 12  EstimatedSalary  165034 non-null  float64\n",
            " 13  Exited           165034 non-null  int64  \n",
            "dtypes: float64(5), int64(6), object(3)\n",
            "memory usage: 17.6+ MB\n"
          ]
        }
      ],
      "source": [
        "import pandas as pd\n",
        "import numpy as np\n",
        "\n",
        "df_train = pd.read_csv(\"train.csv\")\n",
        "\n",
        "df_train.info()\n"
      ]
    },
    {
      "cell_type": "code",
      "execution_count": 4,
      "metadata": {
        "colab": {
          "base_uri": "https://localhost:8080/",
          "height": 206
        },
        "id": "f5WPHN0exOWr",
        "outputId": "7a93ad75-5d65-4083-a9b3-f15fb9bc45fc"
      },
      "outputs": [
        {
          "data": {
            "text/html": [
              "<div>\n",
              "<style scoped>\n",
              "    .dataframe tbody tr th:only-of-type {\n",
              "        vertical-align: middle;\n",
              "    }\n",
              "\n",
              "    .dataframe tbody tr th {\n",
              "        vertical-align: top;\n",
              "    }\n",
              "\n",
              "    .dataframe thead th {\n",
              "        text-align: right;\n",
              "    }\n",
              "</style>\n",
              "<table border=\"1\" class=\"dataframe\">\n",
              "  <thead>\n",
              "    <tr style=\"text-align: right;\">\n",
              "      <th></th>\n",
              "      <th>id</th>\n",
              "      <th>CustomerId</th>\n",
              "      <th>Surname</th>\n",
              "      <th>CreditScore</th>\n",
              "      <th>Geography</th>\n",
              "      <th>Gender</th>\n",
              "      <th>Age</th>\n",
              "      <th>Tenure</th>\n",
              "      <th>Balance</th>\n",
              "      <th>NumOfProducts</th>\n",
              "      <th>HasCrCard</th>\n",
              "      <th>IsActiveMember</th>\n",
              "      <th>EstimatedSalary</th>\n",
              "      <th>Exited</th>\n",
              "    </tr>\n",
              "  </thead>\n",
              "  <tbody>\n",
              "    <tr>\n",
              "      <th>0</th>\n",
              "      <td>0</td>\n",
              "      <td>15674932</td>\n",
              "      <td>Okwudilichukwu</td>\n",
              "      <td>668</td>\n",
              "      <td>France</td>\n",
              "      <td>Male</td>\n",
              "      <td>33.0</td>\n",
              "      <td>3</td>\n",
              "      <td>0.00</td>\n",
              "      <td>2</td>\n",
              "      <td>1.0</td>\n",
              "      <td>0.0</td>\n",
              "      <td>181449.97</td>\n",
              "      <td>0</td>\n",
              "    </tr>\n",
              "    <tr>\n",
              "      <th>1</th>\n",
              "      <td>1</td>\n",
              "      <td>15749177</td>\n",
              "      <td>Okwudiliolisa</td>\n",
              "      <td>627</td>\n",
              "      <td>France</td>\n",
              "      <td>Male</td>\n",
              "      <td>33.0</td>\n",
              "      <td>1</td>\n",
              "      <td>0.00</td>\n",
              "      <td>2</td>\n",
              "      <td>1.0</td>\n",
              "      <td>1.0</td>\n",
              "      <td>49503.50</td>\n",
              "      <td>0</td>\n",
              "    </tr>\n",
              "    <tr>\n",
              "      <th>2</th>\n",
              "      <td>2</td>\n",
              "      <td>15694510</td>\n",
              "      <td>Hsueh</td>\n",
              "      <td>678</td>\n",
              "      <td>France</td>\n",
              "      <td>Male</td>\n",
              "      <td>40.0</td>\n",
              "      <td>10</td>\n",
              "      <td>0.00</td>\n",
              "      <td>2</td>\n",
              "      <td>1.0</td>\n",
              "      <td>0.0</td>\n",
              "      <td>184866.69</td>\n",
              "      <td>0</td>\n",
              "    </tr>\n",
              "    <tr>\n",
              "      <th>3</th>\n",
              "      <td>3</td>\n",
              "      <td>15741417</td>\n",
              "      <td>Kao</td>\n",
              "      <td>581</td>\n",
              "      <td>France</td>\n",
              "      <td>Male</td>\n",
              "      <td>34.0</td>\n",
              "      <td>2</td>\n",
              "      <td>148882.54</td>\n",
              "      <td>1</td>\n",
              "      <td>1.0</td>\n",
              "      <td>1.0</td>\n",
              "      <td>84560.88</td>\n",
              "      <td>0</td>\n",
              "    </tr>\n",
              "    <tr>\n",
              "      <th>4</th>\n",
              "      <td>4</td>\n",
              "      <td>15766172</td>\n",
              "      <td>Chiemenam</td>\n",
              "      <td>716</td>\n",
              "      <td>Spain</td>\n",
              "      <td>Male</td>\n",
              "      <td>33.0</td>\n",
              "      <td>5</td>\n",
              "      <td>0.00</td>\n",
              "      <td>2</td>\n",
              "      <td>1.0</td>\n",
              "      <td>1.0</td>\n",
              "      <td>15068.83</td>\n",
              "      <td>0</td>\n",
              "    </tr>\n",
              "  </tbody>\n",
              "</table>\n",
              "</div>"
            ],
            "text/plain": [
              "   id  CustomerId         Surname  CreditScore Geography Gender   Age  Tenure  \\\n",
              "0   0    15674932  Okwudilichukwu          668    France   Male  33.0       3   \n",
              "1   1    15749177   Okwudiliolisa          627    France   Male  33.0       1   \n",
              "2   2    15694510           Hsueh          678    France   Male  40.0      10   \n",
              "3   3    15741417             Kao          581    France   Male  34.0       2   \n",
              "4   4    15766172       Chiemenam          716     Spain   Male  33.0       5   \n",
              "\n",
              "     Balance  NumOfProducts  HasCrCard  IsActiveMember  EstimatedSalary  \\\n",
              "0       0.00              2        1.0             0.0        181449.97   \n",
              "1       0.00              2        1.0             1.0         49503.50   \n",
              "2       0.00              2        1.0             0.0        184866.69   \n",
              "3  148882.54              1        1.0             1.0         84560.88   \n",
              "4       0.00              2        1.0             1.0         15068.83   \n",
              "\n",
              "   Exited  \n",
              "0       0  \n",
              "1       0  \n",
              "2       0  \n",
              "3       0  \n",
              "4       0  "
            ]
          },
          "execution_count": 4,
          "metadata": {},
          "output_type": "execute_result"
        }
      ],
      "source": [
        "df_train.head()"
      ]
    },
    {
      "cell_type": "code",
      "execution_count": 5,
      "metadata": {
        "id": "iVbk4ynzxOWr"
      },
      "outputs": [],
      "source": [
        "df_train = df_train.drop(columns=['id', 'CustomerId', 'Surname'])"
      ]
    },
    {
      "cell_type": "code",
      "execution_count": 6,
      "metadata": {
        "id": "wZHxsP75xOWr"
      },
      "outputs": [],
      "source": [
        "from sklearn.ensemble import RandomForestClassifier, GradientBoostingClassifier, AdaBoostClassifier, ExtraTreesClassifier\n",
        "from sklearn.neighbors import KNeighborsClassifier, NearestCentroid\n",
        "from sklearn.svm import SVC\n",
        "from sklearn.linear_model import LogisticRegression\n",
        "from sklearn.tree import DecisionTreeClassifier\n",
        "from sklearn.naive_bayes import GaussianNB\n",
        "from xgboost import XGBClassifier\n",
        "from sklearn.discriminant_analysis import LinearDiscriminantAnalysis, QuadraticDiscriminantAnalysis\n",
        "from sklearn.metrics import accuracy_score, confusion_matrix, classification_report\n",
        "from sklearn.model_selection import train_test_split\n",
        "from sklearn.metrics import classification_report, confusion_matrix, accuracy_score\n",
        "from sklearn.preprocessing import MinMaxScaler, LabelEncoder\n",
        "from sklearn.preprocessing import StandardScaler\n",
        "\n",
        "import warnings\n",
        "warnings.filterwarnings(\"ignore\")"
      ]
    },
    {
      "cell_type": "code",
      "execution_count": 7,
      "metadata": {
        "colab": {
          "base_uri": "https://localhost:8080/"
        },
        "id": "5rHdRUFgxOWr",
        "outputId": "82b4ea30-ea9c-42f0-875d-fe7e12d9d707"
      },
      "outputs": [
        {
          "name": "stdout",
          "output_type": "stream",
          "text": [
            "Series([], dtype: int64)\n"
          ]
        }
      ],
      "source": [
        "na_info = df_train.isna().sum()\n",
        "\n",
        "# Display columns that contain NaN values\n",
        "na_columns = na_info[na_info > 0]\n",
        "print(na_columns)"
      ]
    },
    {
      "cell_type": "code",
      "execution_count": 8,
      "metadata": {
        "id": "fdkdnSSYxOWr"
      },
      "outputs": [],
      "source": [
        "\n",
        "# Initialize a dictionary to store label encoders\n",
        "label_encoders = {}\n",
        "\n",
        "for column in df_train.columns:\n",
        "    if df_train[column].dtype == 'object':\n",
        "        le = LabelEncoder()\n",
        "        df_train[column] = le.fit_transform(df_train[column])\n",
        "        label_encoders[column] = le  # Save the label encoder\n"
      ]
    },
    {
      "cell_type": "code",
      "execution_count": 9,
      "metadata": {
        "colab": {
          "base_uri": "https://localhost:8080/",
          "height": 206
        },
        "id": "YTatCkKixOWr",
        "outputId": "e8ab186b-d0ea-4107-963d-38889e2b7447"
      },
      "outputs": [
        {
          "data": {
            "text/html": [
              "<div>\n",
              "<style scoped>\n",
              "    .dataframe tbody tr th:only-of-type {\n",
              "        vertical-align: middle;\n",
              "    }\n",
              "\n",
              "    .dataframe tbody tr th {\n",
              "        vertical-align: top;\n",
              "    }\n",
              "\n",
              "    .dataframe thead th {\n",
              "        text-align: right;\n",
              "    }\n",
              "</style>\n",
              "<table border=\"1\" class=\"dataframe\">\n",
              "  <thead>\n",
              "    <tr style=\"text-align: right;\">\n",
              "      <th></th>\n",
              "      <th>CreditScore</th>\n",
              "      <th>Geography</th>\n",
              "      <th>Gender</th>\n",
              "      <th>Age</th>\n",
              "      <th>Tenure</th>\n",
              "      <th>Balance</th>\n",
              "      <th>NumOfProducts</th>\n",
              "      <th>HasCrCard</th>\n",
              "      <th>IsActiveMember</th>\n",
              "      <th>EstimatedSalary</th>\n",
              "      <th>Exited</th>\n",
              "    </tr>\n",
              "  </thead>\n",
              "  <tbody>\n",
              "    <tr>\n",
              "      <th>0</th>\n",
              "      <td>668</td>\n",
              "      <td>0</td>\n",
              "      <td>1</td>\n",
              "      <td>33.0</td>\n",
              "      <td>3</td>\n",
              "      <td>0.00</td>\n",
              "      <td>2</td>\n",
              "      <td>1.0</td>\n",
              "      <td>0.0</td>\n",
              "      <td>181449.97</td>\n",
              "      <td>0</td>\n",
              "    </tr>\n",
              "    <tr>\n",
              "      <th>1</th>\n",
              "      <td>627</td>\n",
              "      <td>0</td>\n",
              "      <td>1</td>\n",
              "      <td>33.0</td>\n",
              "      <td>1</td>\n",
              "      <td>0.00</td>\n",
              "      <td>2</td>\n",
              "      <td>1.0</td>\n",
              "      <td>1.0</td>\n",
              "      <td>49503.50</td>\n",
              "      <td>0</td>\n",
              "    </tr>\n",
              "    <tr>\n",
              "      <th>2</th>\n",
              "      <td>678</td>\n",
              "      <td>0</td>\n",
              "      <td>1</td>\n",
              "      <td>40.0</td>\n",
              "      <td>10</td>\n",
              "      <td>0.00</td>\n",
              "      <td>2</td>\n",
              "      <td>1.0</td>\n",
              "      <td>0.0</td>\n",
              "      <td>184866.69</td>\n",
              "      <td>0</td>\n",
              "    </tr>\n",
              "    <tr>\n",
              "      <th>3</th>\n",
              "      <td>581</td>\n",
              "      <td>0</td>\n",
              "      <td>1</td>\n",
              "      <td>34.0</td>\n",
              "      <td>2</td>\n",
              "      <td>148882.54</td>\n",
              "      <td>1</td>\n",
              "      <td>1.0</td>\n",
              "      <td>1.0</td>\n",
              "      <td>84560.88</td>\n",
              "      <td>0</td>\n",
              "    </tr>\n",
              "    <tr>\n",
              "      <th>4</th>\n",
              "      <td>716</td>\n",
              "      <td>2</td>\n",
              "      <td>1</td>\n",
              "      <td>33.0</td>\n",
              "      <td>5</td>\n",
              "      <td>0.00</td>\n",
              "      <td>2</td>\n",
              "      <td>1.0</td>\n",
              "      <td>1.0</td>\n",
              "      <td>15068.83</td>\n",
              "      <td>0</td>\n",
              "    </tr>\n",
              "  </tbody>\n",
              "</table>\n",
              "</div>"
            ],
            "text/plain": [
              "   CreditScore  Geography  Gender   Age  Tenure    Balance  NumOfProducts  \\\n",
              "0          668          0       1  33.0       3       0.00              2   \n",
              "1          627          0       1  33.0       1       0.00              2   \n",
              "2          678          0       1  40.0      10       0.00              2   \n",
              "3          581          0       1  34.0       2  148882.54              1   \n",
              "4          716          2       1  33.0       5       0.00              2   \n",
              "\n",
              "   HasCrCard  IsActiveMember  EstimatedSalary  Exited  \n",
              "0        1.0             0.0        181449.97       0  \n",
              "1        1.0             1.0         49503.50       0  \n",
              "2        1.0             0.0        184866.69       0  \n",
              "3        1.0             1.0         84560.88       0  \n",
              "4        1.0             1.0         15068.83       0  "
            ]
          },
          "execution_count": 9,
          "metadata": {},
          "output_type": "execute_result"
        }
      ],
      "source": [
        "df_train.head()"
      ]
    },
    {
      "cell_type": "code",
      "execution_count": 10,
      "metadata": {
        "id": "bAWg2JHexOWr"
      },
      "outputs": [],
      "source": [
        "\n",
        "X = df_train.drop(['Exited'], axis=1)  # This excludes 'current_status'\n",
        "y = df_train['Exited']  # The target variable\n",
        "\n",
        "# Now split the data into training and test sets\n",
        "X_train, X_test, y_train, y_test = train_test_split(\n",
        "    X,\n",
        "    y,  # Target variable\n",
        "    test_size=0.3,\n",
        "    random_state=0\n",
        ")\n",
        "\n"
      ]
    },
    {
      "cell_type": "code",
      "execution_count": 11,
      "metadata": {
        "id": "hJ3YmjS21wZh"
      },
      "outputs": [
        {
          "data": {
            "image/png": "[encoded data removed]",
            "text/plain": [
              "<Figure size 1000x600 with 1 Axes>"
            ]
          },
          "metadata": {},
          "output_type": "display_data"
        },
        {
          "data": {
            "image/png": "[encoded data removed]",
            "text/plain": [
              "<Figure size 1000x600 with 1 Axes>"
            ]
          },
          "metadata": {},
          "output_type": "display_data"
        }
      ],
      "source": [
        "# Dictionary of model classes as defined previously\n",
        "import matplotlib.pyplot as plt\n",
        "import seaborn as sns\n",
        "import pandas as pd\n",
        "import numpy as np\n",
        "from sklearn.metrics import accuracy_score, confusion_matrix, classification_report, roc_auc_score\n",
        "\n",
        "\n",
        "models = {\n",
        "    'RandomForest': RandomForestClassifier,\n",
        "    'KNN': KNeighborsClassifier,\n",
        "    'LogisticRegression': LogisticRegression,\n",
        "    'DecisionTree': DecisionTreeClassifier,\n",
        "    'XGBoost': XGBClassifier,\n",
        "    'GradientBoosting': GradientBoostingClassifier,\n",
        "    'AdaBoost': AdaBoostClassifier,\n",
        "    'NaiveBayes': GaussianNB,\n",
        "    'LDA': LinearDiscriminantAnalysis,\n",
        "    'QDA': QuadraticDiscriminantAnalysis,\n",
        "    'NearestCentroid': NearestCentroid,\n",
        "    'ExtraTrees': ExtraTreesClassifier\n",
        "}\n",
        "\n",
        "# Dictionary to store accuracies\n",
        "accuracies = {'Train': {}, 'Test': {}}\n",
        "precisions = {'Train': {}, 'Test': {}}\n",
        "\n",
        "# Loop through each model\n",
        "for model_name, model_class in models.items():\n",
        "    # Instantiate the model\n",
        "    # if model_name == 'XGBoost':\n",
        "    #     model = model_class(use_label_encoder=False, eval_metric='logloss', random_state=0)\n",
        "    # else:\n",
        "    model = model_class()\n",
        "\n",
        "    # Fit the model\n",
        "    model.fit(X_train, y_train)\n",
        "\n",
        "    # Evaluate on Test data\n",
        "    y_pred_test = model.predict(X_test)\n",
        "    acc_test = roc_auc_score(y_test, y_pred_test) * 100\n",
        "    accuracies['Test'][model_name] = round(acc_test, 2)\n",
        "    cm_test = confusion_matrix(y_test, y_pred_test)\n",
        "\n",
        "    # Evaluate on Train data\n",
        "    y_pred_train = model.predict(X_train)\n",
        "    acc_train = roc_auc_score(y_train, y_pred_train) * 100\n",
        "    accuracies['Train'][model_name] = round(acc_train, 2)\n",
        "    cm_train = confusion_matrix(y_train, y_pred_train)\n",
        "\n",
        "    # Calculate False Negative (Predicted False while Real is True) for precision analysis\n",
        "    precisions['Train'][model_name] = cm_train[0][1]\n",
        "    precisions['Test'][model_name] = cm_test[0][1]\n",
        "\n",
        "    # Plot Confusion Matrix for Test Data\n",
        "    # plt.figure(figsize=(8, 6))\n",
        "    # sns.heatmap(pd.DataFrame(cm_test, index=np.unique(y_test), columns=np.unique(y_test)),\n",
        "    #             annot=True, fmt='g', cmap='Blues')\n",
        "    # plt.title(f'{model_name} - Test Confusion Matrix')\n",
        "    # plt.xlabel('Predicted')\n",
        "    # plt.ylabel('Actual')\n",
        "    # plt.show()\n",
        "\n",
        "# Plotting Model Accuracies\n",
        "accuracy_df = pd.DataFrame(accuracies)\n",
        "accuracy_df.plot(kind='bar', figsize=(10, 6), colormap='viridis')\n",
        "plt.title('Train and Test Accuracies for Models')\n",
        "plt.xlabel('Model')\n",
        "plt.ylabel('Accuracy (%)')\n",
        "plt.xticks(rotation=45)\n",
        "plt.legend(title='Dataset')\n",
        "plt.show()\n",
        "\n",
        "# # Plotting False Negative Metrics\n",
        "# precision_df = pd.DataFrame(precisions)\n",
        "# precision_df.plot(kind='bar', figsize=(10, 6), colormap='coolwarm')\n",
        "# plt.title('False Negative Counts (Predicted False while Real is True)')\n",
        "# plt.xlabel('Model')\n",
        "# plt.ylabel('Count')\n",
        "# plt.xticks(rotation=45)\n",
        "# plt.legend(title='Dataset')\n",
        "# plt.show()\n",
        "\n"
      ]
    },
    {
      "cell_type": "code",
      "execution_count": 30,
      "metadata": {},
      "outputs": [
        {
          "data": {
            "text/plain": [
              "'XGBoost'"
            ]
          },
          "execution_count": 30,
          "metadata": {},
          "output_type": "execute_result"
        }
      ],
      "source": [
        "max(accuracies['Test'])"
      ]
    },
    {
      "cell_type": "code",
      "execution_count": 12,
      "metadata": {},
      "outputs": [
        {
          "data": {
            "text/plain": [
              "75.13"
            ]
          },
          "execution_count": 12,
          "metadata": {},
          "output_type": "execute_result"
        }
      ],
      "source": [
        "accuracies['Test'][max(accuracies['Test'])]"
      ]
    },
    {
      "cell_type": "code",
      "execution_count": 13,
      "metadata": {},
      "outputs": [],
      "source": [
        "from sklearn.pipeline import Pipeline\n",
        "from sklearn.preprocessing import StandardScaler, MinMaxScaler, PolynomialFeatures\n",
        "from sklearn.decomposition import PCA, KernelPCA\n",
        "from sklearn.feature_selection import VarianceThreshold\n",
        "from sklearn.metrics import accuracy_score, f1_score, roc_auc_score\n",
        "from hyperopt import STATUS_OK"
      ]
    },
    {
      "cell_type": "code",
      "execution_count": 29,
      "metadata": {},
      "outputs": [
        {
          "name": "stdout",
          "output_type": "stream",
          "text": [
            "Tuning RandomForest...\n",
            "100%|██████████| 20/20 [08:43<00:00, 26.17s/trial, best loss: -0.887164918910864]\n",
            "Best parameters for RandomForest: {'class_weight': 1, 'criterion': 1, 'ensemble_method': 1, 'max_depth': 4, 'min_samples_leaf': 3, 'min_samples_split': 7, 'n_estimators': 4, 'poly_degree': 0, 'postprocessor': 2, 'preprocessor': 3}\n",
            "Tuning KNN...\n",
            "100%|██████████| 20/20 [15:05<00:00, 45.29s/trial, best loss: -0.8657852185028604] \n",
            "Best parameters for KNN: {'feature_selection': 2, 'leaf_size': 5, 'metric': 0, 'n_neighbors': 14, 'postprocessor': 0, 'preprocessor': 0, 'weights': 0}\n",
            "Tuning LogisticRegression...\n",
            "100%|██████████| 20/20 [00:46<00:00,  2.33s/trial, best loss: -0.8050455318250939]\n",
            "Best parameters for LogisticRegression: {'C': 29.04451614900931, 'dual': 1, 'ensemble_method': 0, 'feature_selection': 2, 'penalty': 1, 'postprocessor': 2, 'preprocessor': 0, 'solver': 1}\n",
            "Tuning XGBoost...\n",
            "100%|██████████| 20/20 [00:49<00:00,  2.47s/trial, best loss: -0.8894610908779259]\n",
            "Best parameters for XGBoost: {'alpha': 0.11212847321359189, 'colsample_bytree': 0.7088584968787717, 'feature_selection': 2, 'gamma': 4.6095713983263185, 'lambda': 0.9140665061148651, 'learning_rate': 0.06262503565011965, 'max_depth': 6, 'n_estimators': 4, 'postprocessor': 0, 'preprocessor': 5, 'scale_pos_weight': 0.7759761414435276, 'subsample': 0.9412318424716994}\n",
            "\n",
            "== Best Parameters ==\n",
            "RandomForest: {'class_weight': 1, 'criterion': 1, 'ensemble_method': 1, 'max_depth': 4, 'min_samples_leaf': 3, 'min_samples_split': 7, 'n_estimators': 4, 'poly_degree': 0, 'postprocessor': 2, 'preprocessor': 3}\n",
            "KNN: {'feature_selection': 2, 'leaf_size': 5, 'metric': 0, 'n_neighbors': 14, 'postprocessor': 0, 'preprocessor': 0, 'weights': 0}\n",
            "LogisticRegression: {'C': 29.04451614900931, 'dual': 1, 'ensemble_method': 0, 'feature_selection': 2, 'penalty': 1, 'postprocessor': 2, 'preprocessor': 0, 'solver': 1}\n",
            "XGBoost: {'alpha': 0.11212847321359189, 'colsample_bytree': 0.7088584968787717, 'feature_selection': 2, 'gamma': 4.6095713983263185, 'lambda': 0.9140665061148651, 'learning_rate': 0.06262503565011965, 'max_depth': 6, 'n_estimators': 4, 'postprocessor': 0, 'preprocessor': 5, 'scale_pos_weight': 0.7759761414435276, 'subsample': 0.9412318424716994}\n"
          ]
        }
      ],
      "source": [
        "import numpy as np\n",
        "from hyperopt import hp, fmin, tpe, STATUS_OK, Trials\n",
        "from sklearn.pipeline import Pipeline\n",
        "from sklearn.preprocessing import StandardScaler, MinMaxScaler, PolynomialFeatures\n",
        "from sklearn.decomposition import PCA, KernelPCA\n",
        "from sklearn.feature_selection import VarianceThreshold, SelectKBest, mutual_info_classif\n",
        "from sklearn.metrics import accuracy_score, f1_score, roc_auc_score\n",
        "\n",
        "# Define feature selection techniques\n",
        "feature_selection_options = [\n",
        "    {'type': 'variance_threshold', 'params': {'threshold': hp.uniform('var_threshold', 0.0, 0.2)}},\n",
        "    {'type': 'select_k_best', 'params': {'k': hp.choice('k_best_k', range(5, 21))}},\n",
        "    None\n",
        "]\n",
        "\n",
        "# Define preprocessor options\n",
        "preprocessor_options = [\n",
        "    {'type': 'standard_scaler', 'params': {}},\n",
        "    {'type': 'minmax_scaler', 'params': {}},\n",
        "    {'type': 'pca', 'params': {'n_components': hp.choice('pca_n_components', range(5, 9))}},\n",
        "    {'type': 'polynomial_features', 'params': {'degree': hp.choice('poly_degree', range(2, 4))}},\n",
        "    {'type': 'kernel_pca', 'params': {\n",
        "        'n_components': hp.choice('kernel_pca_n_components', range(5, 9)),\n",
        "        'kernel': hp.choice('kernel_pca_kernel', ['linear', 'poly', 'rbf', 'sigmoid'])\n",
        "    }},\n",
        "    None\n",
        "]\n",
        "\n",
        "# Define postprocessor options\n",
        "postprocessor_space = [\n",
        "    None,\n",
        "    {'type': 'calibration', 'params': {'method': hp.choice('calibration_method', ['sigmoid', 'isotonic'])}},\n",
        "    {'type': 'ensemble', 'params': {'method': hp.choice('ensemble_method', ['bagging', 'boosting'])}}\n",
        "]\n",
        "\n",
        "# Define search space for models\n",
        "search_spaces = {\n",
        "        'RandomForest': {\n",
        "        'preprocessor': hp.choice('preprocessor', preprocessor_options),\n",
        "        'n_estimators': hp.choice('n_estimators', range(50, 301, 50)),\n",
        "        'max_depth': hp.choice('max_depth', range(5, 20)),\n",
        "        'criterion': hp.choice('criterion', ['gini', 'entropy']),\n",
        "        'min_samples_split': hp.choice('min_samples_split', range(2, 10)),\n",
        "        'min_samples_leaf': hp.choice('min_samples_leaf', range(1, 5)),\n",
        "        'class_weight': hp.choice('class_weight', [None, 'balanced', 'balanced_subsample']),\n",
        "        'random_state': 0,\n",
        "        'postprocessor': hp.choice('postprocessor', postprocessor_space)\n",
        "    },\n",
        "    'KNN': {\n",
        "        'feature_selection': hp.choice('feature_selection', feature_selection_options),\n",
        "        'preprocessor': hp.choice('preprocessor', preprocessor_options),\n",
        "        'postprocessor': hp.choice('postprocessor', postprocessor_space),\n",
        "        'n_neighbors': hp.choice('n_neighbors', range(3, 20)),\n",
        "        'weights': hp.choice('weights', ['uniform', 'distance']),\n",
        "        'metric': hp.choice('metric', ['euclidean', 'manhattan', 'chebyshev', 'minkowski']),\n",
        "        'leaf_size': hp.choice('leaf_size', range(10, 50))\n",
        "    },\n",
        "    'LogisticRegression': {\n",
        "        'feature_selection': hp.choice('feature_selection', feature_selection_options),\n",
        "        'preprocessor': hp.choice('preprocessor', preprocessor_options),\n",
        "        'postprocessor': hp.choice('postprocessor', postprocessor_space),\n",
        "        'C': hp.loguniform('C', np.log(0.001), np.log(100)),\n",
        "        'penalty': hp.choice('penalty', ['l1', 'l2']),\n",
        "        'solver': hp.choice('solver', ['liblinear', 'saga']),\n",
        "        'dual': hp.choice('dual', [True, False]),\n",
        "        'random_state': 0\n",
        "    },\n",
        "    'XGBoost': {\n",
        "        'feature_selection': hp.choice('feature_selection', feature_selection_options),\n",
        "        'preprocessor': hp.choice('preprocessor', preprocessor_options),\n",
        "        'postprocessor': hp.choice('postprocessor', postprocessor_space),\n",
        "        'max_depth': hp.choice('max_depth', range(3, 10)),\n",
        "        'learning_rate': hp.loguniform('learning_rate', np.log(0.01), np.log(0.3)),\n",
        "        'n_estimators': hp.choice('n_estimators', range(50, 300, 50)),\n",
        "        'subsample': hp.uniform('subsample', 0.5, 1),\n",
        "        'colsample_bytree': hp.uniform('colsample_bytree', 0.5, 1),\n",
        "        'gamma': hp.uniform('gamma', 0, 5),\n",
        "        'alpha': hp.loguniform('alpha', np.log(0.01), np.log(10)),\n",
        "        'lambda': hp.loguniform('lambda', np.log(0.01), np.log(10)),\n",
        "        'scale_pos_weight': hp.uniform('scale_pos_weight', 0.5, 5),\n",
        "        'use_label_encoder': False,\n",
        "        'eval_metric': 'logloss',\n",
        "        'random_state': 0\n",
        "    },\n",
        "}\n",
        "\n",
        "def objective(params, model_name, X_train, y_train, X_test, y_test, scoring='roc_auc'):\n",
        "    # Get model class\n",
        "    model_class = models[model_name]\n",
        "    feature_selection_config = params.pop('feature_selection', None)\n",
        "    preprocessor_config = params.pop('preprocessor', None)\n",
        "    postprocessor_config = params.pop('postprocessor', None)\n",
        "    \n",
        "    # Build pipeline\n",
        "    steps = []\n",
        "    \n",
        "    # Add feature selection\n",
        "    if feature_selection_config:\n",
        "        if feature_selection_config['type'] == 'variance_threshold':\n",
        "            steps.append(('feature_selection', VarianceThreshold(threshold=feature_selection_config['params']['threshold'])))\n",
        "        elif feature_selection_config['type'] == 'select_k_best':\n",
        "            steps.append(('feature_selection', SelectKBest(score_func=mutual_info_classif, k=feature_selection_config['params']['k'])))\n",
        "    \n",
        "    # Add preprocessor\n",
        "    if preprocessor_config:\n",
        "        if preprocessor_config['type'] == 'standard_scaler':\n",
        "            steps.append(('scaler', StandardScaler()))\n",
        "        elif preprocessor_config['type'] == 'minmax_scaler':\n",
        "            steps.append(('scaler', MinMaxScaler()))\n",
        "        elif preprocessor_config['type'] == 'pca':\n",
        "            steps.append(('pca', PCA(n_components=preprocessor_config['params']['n_components'])))\n",
        "        elif preprocessor_config['type'] == 'polynomial_features':\n",
        "            steps.append(('poly', PolynomialFeatures(degree=preprocessor_config['params']['degree'])))\n",
        "        elif preprocessor_config['type'] == 'kernel_pca':\n",
        "            steps.append(('kernel_pca', KernelPCA(\n",
        "                n_components=preprocessor_config['params']['n_components'],\n",
        "                kernel=preprocessor_config['params']['kernel']\n",
        "            )))\n",
        "    \n",
        "    # Add model to the pipeline\n",
        "    steps.append(('model', model_class(**params)))\n",
        "    pipeline = Pipeline(steps)\n",
        "    \n",
        "    # Train model and predict\n",
        "    try:\n",
        "        pipeline.fit(X_train, y_train)\n",
        "        y_pred = pipeline.predict(X_test)\n",
        "        \n",
        "        # Apply postprocessor\n",
        "        if postprocessor_config:\n",
        "            if postprocessor_config['type'] == 'threshold_tuning':\n",
        "                threshold = postprocessor_config['params']['threshold']\n",
        "                y_pred = (pipeline.predict_proba(X_test)[:, 1] > threshold).astype(int)\n",
        "            elif postprocessor_config['type'] == 'calibration':\n",
        "                # Add calibration logic\n",
        "                pass\n",
        "            elif postprocessor_config['type'] == 'ensemble':\n",
        "                # Add ensemble logic\n",
        "                pass\n",
        "        \n",
        "        # Calculate score\n",
        "        if scoring == 'accuracy':\n",
        "            score = accuracy_score(y_test, y_pred)\n",
        "        elif scoring == 'f1':\n",
        "            score = f1_score(y_test, y_pred)\n",
        "        elif scoring == 'roc_auc' and hasattr(pipeline, \"predict_proba\"):\n",
        "            score = roc_auc_score(y_test, pipeline.predict_proba(X_test)[:, 1])\n",
        "        else:\n",
        "            score = accuracy_score(y_test, y_pred)\n",
        "    except Exception as e:\n",
        "        # print(f\"Error: {e}\")\n",
        "        return {'loss': float('inf'), 'status': STATUS_OK}\n",
        "    \n",
        "    return {'loss': -score, 'status': STATUS_OK}\n",
        "\n",
        "best_params = {}\n",
        "\n",
        "# Run hyperopt\n",
        "for model_name in search_spaces.keys():\n",
        "    print(f\"Tuning {model_name}...\")\n",
        "    \n",
        "    trials = Trials()\n",
        "    best = fmin(\n",
        "        fn=lambda params: objective(params, model_name, X_train, y_train, X_test, y_test),\n",
        "        space=search_spaces[model_name],\n",
        "        algo=tpe.suggest,\n",
        "        max_evals=20,\n",
        "        trials=trials\n",
        "    )\n",
        "    \n",
        "    best_params[model_name] = best\n",
        "    print(f\"Best parameters for {model_name}: {best}\")\n",
        "\n",
        "print(\"\\n== Best Parameters ==\")\n",
        "for model, params in best_params.items():\n",
        "    print(f\"{model}: {params}\")\n"
      ]
    },
    {
      "cell_type": "code",
      "execution_count": 32,
      "metadata": {},
      "outputs": [
        {
          "data": {
            "text/plain": [
              "{'alpha': 0.11212847321359189,\n",
              " 'colsample_bytree': 0.7088584968787717,\n",
              " 'feature_selection': 2,\n",
              " 'gamma': 4.6095713983263185,\n",
              " 'lambda': 0.9140665061148651,\n",
              " 'learning_rate': 0.06262503565011965,\n",
              " 'max_depth': 6,\n",
              " 'n_estimators': 4,\n",
              " 'postprocessor': 0,\n",
              " 'preprocessor': 5,\n",
              " 'scale_pos_weight': 0.7759761414435276,\n",
              " 'subsample': 0.9412318424716994}"
            ]
          },
          "execution_count": 32,
          "metadata": {},
          "output_type": "execute_result"
        }
      ],
      "source": [
        "best_params[\"XGBoost\"]"
      ]
    },
    {
      "cell_type": "code",
      "execution_count": 34,
      "metadata": {},
      "outputs": [
        {
          "data": {
            "text/plain": [
              "{'alpha': 0.11212847321359189,\n",
              " 'colsample_bytree': 0.7088584968787717,\n",
              " 'feature_selection': 2,\n",
              " 'gamma': 4.6095713983263185,\n",
              " 'lambda': 0.9140665061148651,\n",
              " 'learning_rate': 0.06262503565011965,\n",
              " 'max_depth': 6,\n",
              " 'n_estimators': 4,\n",
              " 'postprocessor': 0,\n",
              " 'preprocessor': 5,\n",
              " 'scale_pos_weight': 0.7759761414435276,\n",
              " 'subsample': 0.9412318424716994}"
            ]
          },
          "execution_count": 34,
          "metadata": {},
          "output_type": "execute_result"
        }
      ],
      "source": [
        "best"
      ]
    },
    {
      "cell_type": "code",
      "execution_count": 33,
      "metadata": {},
      "outputs": [
        {
          "ename": "TypeError",
          "evalue": "__init__() got an unexpected keyword argument 'ensemble_method'",
          "output_type": "error",
          "traceback": [
            "\u001b[0;31m---------------------------------------------------------------------------\u001b[0m",
            "\u001b[0;31mTypeError\u001b[0m                                 Traceback (most recent call last)",
            "Cell \u001b[0;32mIn[33], line 57\u001b[0m\n\u001b[1;32m     55\u001b[0m auto_models \u001b[38;5;241m=\u001b[39m {}\n\u001b[1;32m     56\u001b[0m \u001b[38;5;28;01mfor\u001b[39;00m model_name, best_config \u001b[38;5;129;01min\u001b[39;00m best_params\u001b[38;5;241m.\u001b[39mitems():\n\u001b[0;32m---> 57\u001b[0m     auto_models[model_name] \u001b[38;5;241m=\u001b[39m \u001b[43mcreate_pipeline\u001b[49m\u001b[43m(\u001b[49m\u001b[43mmodel_name\u001b[49m\u001b[43m,\u001b[49m\u001b[43m \u001b[49m\u001b[43mbest_config\u001b[49m\u001b[43m)\u001b[49m\n\u001b[1;32m     59\u001b[0m \u001b[38;5;66;03m# Use the best auto_model (e.g., RandomForest in this case)\u001b[39;00m\n\u001b[1;32m     60\u001b[0m best_model_name \u001b[38;5;241m=\u001b[39m \u001b[38;5;28mmax\u001b[39m(auto_models, key\u001b[38;5;241m=\u001b[39m\u001b[38;5;28;01mlambda\u001b[39;00m m: \u001b[38;5;241m-\u001b[39mbest_params[m][\u001b[38;5;124m'\u001b[39m\u001b[38;5;124mloss\u001b[39m\u001b[38;5;124m'\u001b[39m])  \u001b[38;5;66;03m# Assuming lower loss is better\u001b[39;00m\n",
            "Cell \u001b[0;32mIn[33], line 14\u001b[0m, in \u001b[0;36mcreate_pipeline\u001b[0;34m(model_name, best_config)\u001b[0m\n\u001b[1;32m     10\u001b[0m model_params \u001b[38;5;241m=\u001b[39m {k: v \u001b[38;5;28;01mfor\u001b[39;00m k, v \u001b[38;5;129;01min\u001b[39;00m best_config\u001b[38;5;241m.\u001b[39mitems() \n\u001b[1;32m     11\u001b[0m                 \u001b[38;5;28;01mif\u001b[39;00m k \u001b[38;5;129;01mnot\u001b[39;00m \u001b[38;5;129;01min\u001b[39;00m [\u001b[38;5;124m'\u001b[39m\u001b[38;5;124mfeature_selection\u001b[39m\u001b[38;5;124m'\u001b[39m, \u001b[38;5;124m'\u001b[39m\u001b[38;5;124mpreprocessor\u001b[39m\u001b[38;5;124m'\u001b[39m, \u001b[38;5;124m'\u001b[39m\u001b[38;5;124mpostprocessor\u001b[39m\u001b[38;5;124m'\u001b[39m]}\n\u001b[1;32m     13\u001b[0m \u001b[38;5;66;03m# Initialize the model\u001b[39;00m\n\u001b[0;32m---> 14\u001b[0m model \u001b[38;5;241m=\u001b[39m \u001b[43mmodels\u001b[49m\u001b[43m[\u001b[49m\u001b[43mmodel_name\u001b[49m\u001b[43m]\u001b[49m\u001b[43m(\u001b[49m\u001b[38;5;241;43m*\u001b[39;49m\u001b[38;5;241;43m*\u001b[39;49m\u001b[43mmodel_params\u001b[49m\u001b[43m)\u001b[49m\n\u001b[1;32m     16\u001b[0m \u001b[38;5;66;03m# Build the pipeline\u001b[39;00m\n\u001b[1;32m     17\u001b[0m steps \u001b[38;5;241m=\u001b[39m []\n",
            "File \u001b[0;32m~/.miniforge3/envs/automl/lib/python3.9/site-packages/sklearn/utils/validation.py:63\u001b[0m, in \u001b[0;36m_deprecate_positional_args.<locals>._inner_deprecate_positional_args.<locals>.inner_f\u001b[0;34m(*args, **kwargs)\u001b[0m\n\u001b[1;32m     61\u001b[0m extra_args \u001b[38;5;241m=\u001b[39m \u001b[38;5;28mlen\u001b[39m(args) \u001b[38;5;241m-\u001b[39m \u001b[38;5;28mlen\u001b[39m(all_args)\n\u001b[1;32m     62\u001b[0m \u001b[38;5;28;01mif\u001b[39;00m extra_args \u001b[38;5;241m<\u001b[39m\u001b[38;5;241m=\u001b[39m \u001b[38;5;241m0\u001b[39m:\n\u001b[0;32m---> 63\u001b[0m     \u001b[38;5;28;01mreturn\u001b[39;00m \u001b[43mf\u001b[49m\u001b[43m(\u001b[49m\u001b[38;5;241;43m*\u001b[39;49m\u001b[43margs\u001b[49m\u001b[43m,\u001b[49m\u001b[43m \u001b[49m\u001b[38;5;241;43m*\u001b[39;49m\u001b[38;5;241;43m*\u001b[39;49m\u001b[43mkwargs\u001b[49m\u001b[43m)\u001b[49m\n\u001b[1;32m     65\u001b[0m \u001b[38;5;66;03m# extra_args > 0\u001b[39;00m\n\u001b[1;32m     66\u001b[0m args_msg \u001b[38;5;241m=\u001b[39m [\u001b[38;5;124m'\u001b[39m\u001b[38;5;132;01m{}\u001b[39;00m\u001b[38;5;124m=\u001b[39m\u001b[38;5;132;01m{}\u001b[39;00m\u001b[38;5;124m'\u001b[39m\u001b[38;5;241m.\u001b[39mformat(name, arg)\n\u001b[1;32m     67\u001b[0m             \u001b[38;5;28;01mfor\u001b[39;00m name, arg \u001b[38;5;129;01min\u001b[39;00m \u001b[38;5;28mzip\u001b[39m(kwonly_args[:extra_args],\n\u001b[1;32m     68\u001b[0m                                  args[\u001b[38;5;241m-\u001b[39mextra_args:])]\n",
            "\u001b[0;31mTypeError\u001b[0m: __init__() got an unexpected keyword argument 'ensemble_method'"
          ]
        }
      ],
      "source": [
        "def create_pipeline(model_name, best_config):\n",
        "    \"\"\"\n",
        "    Create a pipeline using the best configuration found.\n",
        "    \"\"\"\n",
        "    feature_selection_config = best_config.get('feature_selection', None)\n",
        "    preprocessor_config = best_config.get('preprocessor', None)\n",
        "    postprocessor_config = best_config.get('postprocessor', None)\n",
        "    \n",
        "    # Model-specific params (remaining after feature selection and preprocessing)\n",
        "    model_params = {k: v for k, v in best_config.items() \n",
        "                    if k not in ['feature_selection', 'preprocessor', 'postprocessor']}\n",
        "    \n",
        "    # Initialize the model\n",
        "    model = models[model_name](**model_params)\n",
        "    \n",
        "    # Build the pipeline\n",
        "    steps = []\n",
        "    \n",
        "    # Add feature selection\n",
        "    if feature_selection_config:\n",
        "        if feature_selection_config['type'] == 'variance_threshold':\n",
        "            steps.append(('feature_selection', VarianceThreshold(\n",
        "                threshold=feature_selection_config['params']['threshold']\n",
        "            )))\n",
        "        elif feature_selection_config['type'] == 'select_k_best':\n",
        "            steps.append(('feature_selection', SelectKBest(\n",
        "                score_func=mutual_info_classif,\n",
        "                k=feature_selection_config['params']['k']\n",
        "            )))\n",
        "    \n",
        "    # Add preprocessor\n",
        "    if preprocessor_config:\n",
        "        if preprocessor_config['type'] == 'standard_scaler':\n",
        "            steps.append(('scaler', StandardScaler()))\n",
        "        elif preprocessor_config['type'] == 'minmax_scaler':\n",
        "            steps.append(('scaler', MinMaxScaler()))\n",
        "        elif preprocessor_config['type'] == 'pca':\n",
        "            steps.append(('pca', PCA(n_components=preprocessor_config['params']['n_components'])))\n",
        "        elif preprocessor_config['type'] == 'polynomial_features':\n",
        "            steps.append(('poly', PolynomialFeatures(degree=preprocessor_config['params']['degree'])))\n",
        "        elif preprocessor_config['type'] == 'kernel_pca':\n",
        "            steps.append(('kernel_pca', KernelPCA(\n",
        "                n_components=preprocessor_config['params']['n_components'],\n",
        "                kernel=preprocessor_config['params']['kernel']\n",
        "            )))\n",
        "    \n",
        "    # Add model to the pipeline\n",
        "    steps.append(('model', model))\n",
        "    \n",
        "    # Create pipeline\n",
        "    pipeline = Pipeline(steps)\n",
        "    return pipeline\n",
        "\n",
        "# Create auto_model for each tuned model\n",
        "auto_models = {}\n",
        "for model_name, best_config in best_params.items():\n",
        "    auto_models[model_name] = create_pipeline(model_name, best_config)\n",
        "\n",
        "# Use the best auto_model (e.g., RandomForest in this case)\n",
        "best_model_name = max(auto_models, key=lambda m: -best_params[m]['loss'])  # Assuming lower loss is better\n",
        "auto_model = auto_models[best_model_name]\n",
        "\n",
        "print(f\"Best model: {best_model_name}\")\n",
        "print(auto_model)\n"
      ]
    }
  ],
  "metadata": {
    "colab": {
      "provenance": []
    },
    "kernelspec": {
      "display_name": "Python 3",
      "language": "python",
      "name": "python3"
    },
    "language_info": {
      "codemirror_mode": {
        "name": "ipython",
        "version": 3
      },
      "file_extension": ".py",
      "mimetype": "text/x-python",
      "name": "python",
      "nbconvert_exporter": "python",
      "pygments_lexer": "ipython3",
      "version": "3.9.19"
    }
  },
  "nbformat": 4,
  "nbformat_minor": 0
}
